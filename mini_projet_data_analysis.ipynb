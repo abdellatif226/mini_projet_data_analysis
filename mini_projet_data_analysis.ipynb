{
 "cells": [
  {
   "cell_type": "markdown",
   "id": "bc050a43",
   "metadata": {},
   "source": [
    "==============================================================================\n",
    "Mini Projet - Analyse de données du Burkina Faso\n",
    "==============================================================================\n",
    "  Ce script Python réalise toutes les étapes de l'exercice :\n",
    " 1. Prétraitement et filtrage d'un fichier Geonames.org pour le Burkina Faso.\n",
    " 2. Analyse et extraction de sous-ensembles de données.\n",
    " 3. Consolidation des résultats dans un fichier Excel.\n",
    "\n",
    "Étape 1 : Configuration, vérification et importation des bibliothèques\n",
    "Ce bloc de code assure que toutes les bibliothèques requises sont installées.\n",
    "L'importation de 'os' est faite en premier pour pouvoir utiliser 'os.system'."
   ]
  },
  {
   "cell_type": "code",
   "execution_count": 26,
   "id": "ca4cf47a",
   "metadata": {},
   "outputs": [
    {
     "name": "stdout",
     "output_type": "stream",
     "text": [
      "Vérification des bibliothèques requises...\n",
      "Toutes les bibliothèques requises sont installées et prêtes à être utilisées.\n",
      "--------------------------------------------------\n"
     ]
    }
   ],
   "source": [
    "import os\n",
    "import sys\n",
    "\n",
    "# La liste des bibliothèques requises\n",
    "required_libraries = ['pandas', 'requests', 'openpyxl']\n",
    "installed_libraries = []\n",
    "\n",
    "print(\"Vérification des bibliothèques requises...\")\n",
    "\n",
    "# Vérifier si chaque bibliothèque est installée\n",
    "for lib in required_libraries:\n",
    "    try:\n",
    "        __import__(lib)\n",
    "        installed_libraries.append(lib)\n",
    "    except ImportError:\n",
    "        print(f\"La bibliothèque '{lib}' n'est pas installée. Installation en cours...\")\n",
    "        os.system(f'{sys.executable} -m pip install {lib}')\n",
    "        try:\n",
    "            __import__(lib)\n",
    "            print(f\"'{lib}' a été installée avec succès.\")\n",
    "        except ImportError:\n",
    "            print(f\"Erreur: Impossible d'installer '{lib}'. Veuillez l'installer manuellement avec 'pip install {lib}'.\")\n",
    "            # Arrêter le script si l'installation échoue\n",
    "            exit()\n",
    "\n",
    "# Re-importer toutes les bibliothèques une fois que tout est prêt\n",
    "import pandas as pd\n",
    "import requests\n",
    "import zipfile\n",
    "import io\n",
    "import openpyxl\n",
    "\n",
    "print(\"Toutes les bibliothèques requises sont installées et prêtes à être utilisées.\")\n",
    "print(\"-\" * 50)"
   ]
  },
  {
   "cell_type": "markdown",
   "id": "9e56fb7b",
   "metadata": {},
   "source": [
    "===========================================================================\n",
    "Étape 2 : Téléchargement, décompression et prétraitement des données brutes\n",
    "==========================================================================="
   ]
  },
  {
   "cell_type": "code",
   "execution_count": 27,
   "id": "061ead67",
   "metadata": {},
   "outputs": [
    {
     "name": "stdout",
     "output_type": "stream",
     "text": [
      "Téléchargement et décompression du fichier BF.zip...\n",
      "Fichier BF.zip décompressé avec succès.\n",
      "Lecture du fichier BF.txt...\n",
      "Fichier 'burkina_location.csv' créé avec succès.\n",
      "\n",
      "Aperçu des 5 premières lignes du nouveau fichier :\n",
      "        ID       location_name       lat     long\n",
      "0  2282318              Pouéné   9.72908 -2.78660\n",
      "1  2285251  Léraba Occidentale  10.28333 -5.11667\n",
      "2  2287216           Kéléouoro   9.80748 -4.05023\n",
      "3  2294066         White Volta   8.70194 -0.99056\n",
      "4  2298457        Issana Bouga  10.91667 -1.18333\n",
      "--------------------------------------------------\n"
     ]
    }
   ],
   "source": [
    "url = 'http://download.geonames.org/export/dump/BF.zip'\n",
    "print(\"Téléchargement et décompression du fichier BF.zip...\")\n",
    "\n",
    "# Télécharger le fichier et l'extraire\n",
    "try:\n",
    "    r = requests.get(url, stream=True)\n",
    "    z = zipfile.ZipFile(io.BytesIO(r.content))\n",
    "    z.extractall()\n",
    "    print(\"Fichier BF.zip décompressé avec succès.\")\n",
    "except requests.exceptions.RequestException as e:\n",
    "    print(f\"Erreur de téléchargement : {e}\")\n",
    "    # Arrêter le script si le téléchargement échoue\n",
    "    exit()\n",
    "\n",
    "# Le fichier est délimité par des tabulations et n'a pas d'en-tête.\n",
    "# Le fichier BF.txt est situé dans le sous-dossier 'BF' après l'extraction.\n",
    "file_path = os.path.join('BF.txt')\n",
    "print(f\"Lecture du fichier {file_path}...\")\n",
    "\n",
    "# Lire le fichier BF.txt en tant que DataFrame\n",
    "df_raw = pd.read_csv(file_path, sep='\\t', header=None, encoding='utf-8')\n",
    "\n",
    "# Le README de Geonames indique que les colonnes qui nous intéressent sont :\n",
    "# - geonameid (colonne 0)\n",
    "# - name (colonne 1)\n",
    "# - latitude (colonne 4)\n",
    "# - longitude (colonne 5)\n",
    "df_filtered = df_raw[[0, 1, 4, 5]].copy()\n",
    "\n",
    "# Renommer les colonnes pour une meilleure lisibilité\n",
    "df_filtered.columns = ['ID', 'location_name', 'lat', 'long']\n",
    "\n",
    "# Sauvegarder le DataFrame filtré dans un nouveau fichier CSV\n",
    "df_filtered.to_csv('burkina_location.csv', index=False, encoding='utf-8')\n",
    "\n",
    "print(\"Fichier 'burkina_location.csv' créé avec succès.\")\n",
    "print(\"\\nAperçu des 5 premières lignes du nouveau fichier :\")\n",
    "print(df_filtered.head())\n",
    "print(\"-\" * 50)"
   ]
  },
  {
   "cell_type": "markdown",
   "id": "9f5dab48",
   "metadata": {},
   "source": [
    "===========================================================================\n",
    "Étape 3 : Opérations sur le fichier CSV\n",
    "==========================================================================="
   ]
  },
  {
   "cell_type": "code",
   "execution_count": 28,
   "id": "025c1b77",
   "metadata": {},
   "outputs": [
    {
     "name": "stdout",
     "output_type": "stream",
     "text": [
      "Fichier 'gounghin.csv' créé avec les données contenant le nom 'gounghin'.\n",
      "\n",
      "Données pour 'gounghin' :\n",
      "             ID                  location_name       lat     long\n",
      "153     2353306                       Gounghin  12.06677 -1.42134\n",
      "7269    2360473                       Gounghin  12.62488 -1.36398\n",
      "10260   2570204                       Gounghin  12.31436 -1.37900\n",
      "10746  10342749                       Gounghin  12.06667 -0.15000\n",
      "10759  10629032             BICIAB // Gounghin  12.35921 -1.54273\n",
      "10818  11257296            Gounghin Department  12.06671 -0.15484\n",
      "10845  11900526                  Gounghin Nord  12.36120 -1.55055\n",
      "10846  11900528  Zone Industrielle de Gounghin  12.36631 -1.54137\n",
      "10852  11900619                   Gounghin Sud  12.35298 -1.54342\n",
      "10866  11900680                       Gounghin  12.35895 -1.54442\n",
      "--------------------------------------------------\n",
      "Aperçu des lieux dont le nom commence par une lettre de 'A' à 'P' :\n",
      "          ID          location_name       lat     long\n",
      "0    2282318                 Pouéné   9.72908 -2.78660\n",
      "1    2285251     Léraba Occidentale  10.28333 -5.11667\n",
      "2    2287216              Kéléouoro   9.80748 -4.05023\n",
      "4    2298457           Issana Bouga  10.91667 -1.18333\n",
      "137  2353290  Forêt Classée de Ziga  12.47106 -1.08644\n",
      "--------------------------------------------------\n"
     ]
    }
   ],
   "source": [
    "\n",
    "# Charger le fichier CSV pour les analyses suivantes\n",
    "df_burkina = pd.read_csv('burkina_location.csv')\n",
    "\n",
    "# 3.1 Extraire les données contenant le nom 'gounghin'\n",
    "# La méthode str.contains() permet de chercher une sous-chaîne dans la colonne\n",
    "df_gounghin = df_burkina[df_burkina['location_name'].str.contains('gounghin', case=False, na=False)]\n",
    "df_gounghin.to_csv('gounghin.csv', index=False)\n",
    "print(\"Fichier 'gounghin.csv' créé avec les données contenant le nom 'gounghin'.\")\n",
    "print(\"\\nDonnées pour 'gounghin' :\")\n",
    "print(df_gounghin)\n",
    "print(\"-\" * 50)\n",
    "\n",
    "\n",
    "# 3.2 Extraire les lieux dont les premières lettres sont comprises entre 'A' et 'P'\n",
    "# Utiliser .str.upper() et .between() pour filtrer les noms de lieux\n",
    "df_a_to_p = df_burkina[df_burkina['location_name'].str.upper().str[0].between('A', 'P')]\n",
    "print(\"Aperçu des lieux dont le nom commence par une lettre de 'A' à 'P' :\")\n",
    "print(df_a_to_p.head())\n",
    "print(\"-\" * 50)"
   ]
  }
 ],
 "metadata": {
  "kernelspec": {
   "display_name": ".venv",
   "language": "python",
   "name": "python3"
  },
  "language_info": {
   "codemirror_mode": {
    "name": "ipython",
    "version": 3
   },
   "file_extension": ".py",
   "mimetype": "text/x-python",
   "name": "python",
   "nbconvert_exporter": "python",
   "pygments_lexer": "ipython3",
   "version": "3.12.3"
  }
 },
 "nbformat": 4,
 "nbformat_minor": 5
}
